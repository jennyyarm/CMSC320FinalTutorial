{
  "cells": [
    {
      "cell_type": "markdown",
      "metadata": {
        "id": "3wc2cuOI0P7p"
      },
      "source": [
        "\n",
        "#**<center>Predicting Adolescent Violence at Birth<center>**\n",
        "####<center>Tutorial Created by Caleb McClatchey and Jenny Yarmovsky<center>\n",
        "\n",
        "\n",
        "##<u>**Introduction**</u>\n",
        "\n",
        "<t> We chose to explore data from the Princeton and Columbia Universities Fragile Families Study. This study is compelling because it tracks the development of thousands of kids from birth through adolescence. Responses from surveys conducted over the course of the study provide detailed snapshots into a child’s life at various points in time, allowing us to ask complex questions about child development in the context of parenting, socioeconomic, health, and demographic factors. \n",
        " \n",
        "  When we first found the study, we planned to use information about a child’s family at birth to predict their future outcomes. After exploring the surveys, we decided to focus on predicting one specific outcome: violent behavior. We wanted to find how strongly a child’s situation at birth—something they have no control over—impacts their character in their teen years. Identifying factors which lead to violent behavior would enable community leaders and policy-makers to better identify children with a high risk of violence and direct prevention efforts towards them.\n",
        "\n",
        "\n",
        "##<u>**Data Collection**</u>\n",
        "\n",
        "We can find information about the data [here](https://pop.princeton.edu/fragile-families-and-child-wellbeing-study-and-fragile-families-challenge) on the Princeton Office of Population Research website. To access the data, we need to complete a short application process. Navigate to the bottom of the page, click “login or register”, and then enter your email. After we receive an access code for the OPR data archive, we log-in and click “Sign Up” next to the Fragile Families and Child Wellbeing Study and answer a few questions. Within 24 hours, we receive access to the dataset!\n",
        " \n",
        "Now that we have access to the data, it’s time to start using it. We can access the documentation [here](https://fragilefamilies.princeton.edu/data-and-documentation/public-data-documentation). The dataset consists of six waves, each wave consisting of all survey responses from one round of surveys (survey rounds were conducted at birth and after 1, 3, 5, 9, and 15 years). Multiple people (including fathers, mothers, and the children) were surveyed in every wave but some waves include more people surveyed than others. Take a look at the table in the link above to see who was surveryed in each wave. \n",
        "\n",
        "Since the dataset is so large, let’s just focus on the baseline wave, Wave 1 (conducted at birth), and the most recent wave, Wave 6 (conducted at age 15). The most recent wave will tell us how violent a child is, and we’ll attempt to use the baseline wave to predict this violence level.\n",
        "\n",
        "When we go to download data from the archive website for Baseline and Wave 6, there are three file types available: SAS, SPSS, and Stata. There is a Python package for reading SAS files that can be used with Pandas, so we’ll just download the SAS files. Once we have those, our data is “collected” and we’re ready to start exploring in our notebook!\n",
        "\n",
        "\n",
        "\n"
      ]
    },
    {
      "cell_type": "markdown",
      "metadata": {
        "id": "S-9Sz8NYzSOj"
      },
      "source": [
        "##<u>**Data Management and Representation**</u>\n",
        "\n",
        "First, let's import all the necessary packages! We'll need the SAS reader, pandas, seaborn, matplotlib, numpy, and a bunch of scikitlearn packages."
      ]
    },
    {
      "cell_type": "code",
      "execution_count": null,
      "metadata": {
        "colab": {
          "base_uri": "https://localhost:8080/"
        },
        "id": "IO5D2pzG352a",
        "outputId": "68885359-d7aa-40af-c4c8-4d3c70ffd75b"
      },
      "outputs": [
        {
          "name": "stdout",
          "output_type": "stream",
          "text": [
            "Looking in indexes: https://pypi.org/simple, https://us-python.pkg.dev/colab-wheels/public/simple/\n",
            "Requirement already satisfied: sas7bdat in /usr/local/lib/python3.8/dist-packages (2.2.3)\n",
            "Requirement already satisfied: six>=1.8.0 in /usr/local/lib/python3.8/dist-packages (from sas7bdat) (1.15.0)\n"
          ]
        }
      ],
      "source": [
        "!pip install sas7bdat\n",
        "from sas7bdat import SAS7BDAT\n",
        "import pandas as pd\n",
        "import matplotlib.pyplot as plt\n",
        "import seaborn as sns\n",
        "import statsmodels.api as sm\n",
        "import statsmodels.formula.api as smf\n",
        "from statsmodels.formula.api import ols\n",
        "import numpy as np\n",
        "import matplotlib.ticker as mtick\n",
        "from sklearn.ensemble import RandomForestClassifier\n",
        "from sklearn.model_selection import train_test_split\n",
        "from sklearn.model_selection import GridSearchCV\n",
        "from sklearn import model_selection\n",
        "from sklearn import metrics\n",
        "from sklearn.neighbors import KNeighborsClassifier\n",
        "from scipy import stats"
      ]
    },
    {
      "cell_type": "markdown",
      "metadata": {
        "id": "qKONwekkzzf_"
      },
      "source": [
        "Now we'll read the SAS files we downloaded earlier using the SAS reader and then convert them to Pandas dataframes. The two waves will be stored in separate dataframes to start."
      ]
    },
    {
      "cell_type": "code",
      "execution_count": null,
      "metadata": {
        "colab": {
          "base_uri": "https://localhost:8080/"
        },
        "id": "Ld4F4uMq4Is2",
        "outputId": "8153e57c-e802-4628-ecff-d7213f1bc4e5"
      },
      "outputs": [
        {
          "name": "stderr",
          "output_type": "stream",
          "text": [
            "\u001b[33m[FF_wave1_2020v2_SAS.sas7bdat] column count mismatch\u001b[0m\n",
            "\u001b[33m[FF_wave1_2020v2_SAS.sas7bdat] \u001b[33m[FF_wave1_2020v2_SAS.sas7bdat] column count mismatch\u001b[0m\u001b[0m\n",
            "\u001b[33m[FF_wave1_2020v2_SAS.sas7bdat] \u001b[33m[FF_wave1_2020v2_SAS.sas7bdat] \u001b[33m[FF_wave1_2020v2_SAS.sas7bdat] column count mismatch\u001b[0m\u001b[0m\u001b[0m\n",
            "\u001b[33m[FF_wave1_2020v2_SAS.sas7bdat] \u001b[33m[FF_wave1_2020v2_SAS.sas7bdat] \u001b[33m[FF_wave1_2020v2_SAS.sas7bdat] \u001b[33m[FF_wave1_2020v2_SAS.sas7bdat] column count mismatch\u001b[0m\u001b[0m\u001b[0m\u001b[0m\n",
            "WARNING:FF_wave1_2020v2_SAS.sas7bdat:\u001b[33m[FF_wave1_2020v2_SAS.sas7bdat] \u001b[33m[FF_wave1_2020v2_SAS.sas7bdat] \u001b[33m[FF_wave1_2020v2_SAS.sas7bdat] \u001b[33m[FF_wave1_2020v2_SAS.sas7bdat] column count mismatch\u001b[0m\u001b[0m\u001b[0m\u001b[0m\n",
            "\u001b[33m[FF_wave6_2020v2_SAS.sas7bdat] column count mismatch\u001b[0m\n",
            "\u001b[33m[FF_wave6_2020v2_SAS.sas7bdat] \u001b[33m[FF_wave6_2020v2_SAS.sas7bdat] column count mismatch\u001b[0m\u001b[0m\n",
            "WARNING:FF_wave6_2020v2_SAS.sas7bdat:\u001b[33m[FF_wave6_2020v2_SAS.sas7bdat] \u001b[33m[FF_wave6_2020v2_SAS.sas7bdat] column count mismatch\u001b[0m\u001b[0m\n"
          ]
        }
      ],
      "source": [
        "#importing data\n",
        "with SAS7BDAT(\"FF_wave1_2020v2_SAS.sas7bdat\") as reader:\n",
        "    dfwave1 = reader.to_data_frame()\n",
        "with SAS7BDAT(\"FF_wave6_2020v2_SAS.sas7bdat\") as reader:\n",
        "    dfwave6 = reader.to_data_frame()"
      ]
    },
    {
      "cell_type": "markdown",
      "metadata": {
        "id": "nlJfSSVl2vJy"
      },
      "source": [
        "###<u>**Creating a Violence Metric**</u>\n",
        "\n",
        "From browsing the survey questions in the Wave 6 [caregiver](https://fragilefamilies.princeton.edu/sites/g/files/toruqf2001/files/ff_pcg_q15.pdf) and [teen](https://fragilefamilies.princeton.edu/sites/g/files/toruqf2001/files/ff_teen_q15.pdf) surveys, we can see there are a number of questions related to violence. That’s awesome! Unfortunately, as with the rest of the entries in the dataset, they’re mostly categorical or ordinal. That’s not so awesome :( But hey, that’s to be expected with this type of behavioral data so we’ll just have to work with it. Our goal is to predict violent behavior, so to do that let’s create a single metric to quantify a child’s violence level. Although this will be somewhat arbitrary and we’ll lose  some information, it will be much easier to make graphs, do hypothesis testing, and create machine learning algorithms.\n",
        "\n",
        "From the surveys, we select eight questions we want to focus on. Five are from the parent survey and three are from the Child/Teen survey.\n",
        "\n",
        "*   p6b35 - Youth is cruel, bullies, or shows meanness to others\n",
        "*   p6b37 - Youth destroys things belonging to family or others\n",
        "*   p6b41 - Youth gets in many fights\n",
        "*   p6b42 - Youth physically attacks people\n",
        "*   p6b46 - Youth threatens people\n",
        "*   k6d61d - Gotten into a serious physical fight\n",
        "*   k6d6li - Used or threaten to use a weapon to get something\n",
        "*   k6d61l - Taken part in a group fight\n",
        "\n",
        "A quick note about the survey question name codes. The first letter denotes who the question was asked to (p = primary caregiver and k = kid) and the first number denotes the wave (here wave 6). The rest of each code is just the section and question number from the actual survey.\n",
        "\n",
        "We’re intentionally leaving out questions about suspensions and arrests because they do not necessarily reflect violence and may be heavily influenced by systematic biases rather than actual behavior.\n"
      ]
    },
    {
      "cell_type": "markdown",
      "metadata": {
        "id": "9QJqBgMc3Eci"
      },
      "source": [
        "Each question in the surveys has a question code which maps it to a column in the dataframe. We’ll create a new dataframe, df_metric, containing only the columns we care about for violence."
      ]
    },
    {
      "cell_type": "code",
      "execution_count": null,
      "metadata": {
        "id": "K_czy6eg3uwu"
      },
      "outputs": [],
      "source": [
        "#Choosing relevant columns \n",
        "df_metric = dfwave6[['idnum','p6b35', 'p6b37', 'p6b41', 'p6b42', 'p6b45', 'k6d61d', 'k6d61i','k6d61l']]"
      ]
    },
    {
      "cell_type": "markdown",
      "metadata": {
        "id": "8Wo542Yj6eHi"
      },
      "source": [
        "All of the questions contain missing values, which were nicely coded in as negatives by the researchers. Let’s take a look at those values\n"
      ]
    },
    {
      "cell_type": "code",
      "execution_count": null,
      "metadata": {
        "colab": {
          "base_uri": "https://localhost:8080/"
        },
        "id": "_EIbK7g26Xo7",
        "outputId": "1e361739-71ba-47f6-afa4-017eaacb1dc6"
      },
      "outputs": [
        {
          "data": {
            "text/plain": [
              "-9.0    1318\n",
              "-2.0       2\n",
              "-1.0       1\n",
              "Name: p6b35, dtype: int64"
            ]
          },
          "execution_count": 105,
          "metadata": {},
          "output_type": "execute_result"
        }
      ],
      "source": [
        "df_metric[df_metric['p6b35'] < 0]['p6b35'].value_counts()"
      ]
    },
    {
      "cell_type": "markdown",
      "metadata": {
        "id": "DCHXLVl_3yoP"
      },
      "source": [
        "Unfortunately, there are a lot of missing values. The codebook tells us that the values correspond to the following\n",
        "\n",
        "*   -9 Not in wave\n",
        "*   -3 Missing\n",
        "*   -2 Don't know \n",
        "*   -1 Refuse\n",
        "\n",
        "It appears that many parents and children were “Not in the wave”- they must’ve stopped keeping up with the study sometime between now and 15 years ago. A much smaller number are missing, and a handful refused the question or didn’t know the answer. Since we are only looking at two time periods and dealing with mainly ordinal data, there is no reasonable way for us to impute all these missing values. We also do not want to introduce a “missing” category for each feature as this does not help us determine a violence level. Sadly, we’ll just have to drop all these missing values (the corresponding entries in the baseline wave will be dropped later when we merge).\n"
      ]
    },
    {
      "cell_type": "code",
      "execution_count": null,
      "metadata": {
        "id": "Eh96BQzK68SU"
      },
      "outputs": [],
      "source": [
        "#replace missing vales with NA\n",
        "df_metric = df_metric.replace([-1,-2,-3,-4,-5,-6,-7,-8,-9], pd.NA)\n",
        "\n",
        "#drop rows which had missing values\n",
        "df_metric = df_metric.dropna()"
      ]
    },
    {
      "cell_type": "markdown",
      "metadata": {
        "id": "1wtMZoxZ9s1R"
      },
      "source": [
        "Now that we’ve cleaned our data a bit comes the fun part, creating a metric for violence. To make a metric, we’ll transform each question from ordinal to a 10 point scale. Each of the questions from the caregiver survey was answered on a scale of Not True, Sometimes True, or Often True. For each question, we’ll say that Not True is worth 0 points, Sometimes True is worth 7 points and Often True is worth 10 points. Note that we make Sometimes True closer in value to Often True than Not True. We feel the difference between no violence and some violence is more important in this context than the difference between some violence and a lot of violence.\n",
        "\n",
        "The questions from the child/teen survey are on a Never, 1 or 2 Times, 3 or 4 Times,  or 5 or More Times scale. We’ll assign Never = 0 points, 1 or 2 Times = 6 points, 3 or 4 Times = 8 points, 5 or More Times = 10 points. Again, we try to reflect in our values that some violent behavior is a big jump from no violent behavior.\n",
        "\n",
        "Now that we’ve defined a scale for the question, we’ll go through question by question and replace the answers (coded as ints) with the corresponding point values. We check the codebook to see which answer each answer code corresponds to.\n"
      ]
    },
    {
      "cell_type": "code",
      "execution_count": null,
      "metadata": {
        "id": "hnmBRimU4RmB"
      },
      "outputs": [],
      "source": [
        "#replace scale from survey with scale out of 10\n",
        "df_metric['p6b35'] = df_metric['p6b35'].replace([1,2,3], [0,7,10])\n",
        "df_metric['p6b37'] = df_metric['p6b37'].replace([1,2,3], [0,7,10])\n",
        "df_metric['p6b41'] = df_metric['p6b41'].replace([1,2,3], [0,7,10])\n",
        "df_metric['p6b42'] = df_metric['p6b42'].replace([1,2,3], [0,7,10])\n",
        "df_metric['p6b45'] = df_metric['p6b45'].replace([1,2,3], [0,7,10])\n",
        "df_metric['k6d61d'] = df_metric['k6d61d'].replace([1,2,3,4], [0,6,8,10])\n",
        "df_metric['k6d61i'] = df_metric['k6d61i'].replace([1,2,3,4], [0,6,8,10])\n",
        "df_metric['k6d61l'] = df_metric['k6d61l'].replace([1,2,3,4], [0,6,8,10])"
      ]
    },
    {
      "cell_type": "markdown",
      "metadata": {
        "id": "Nw4KXAX290JE"
      },
      "source": [
        "Cool! Now we can bring everything together and create our metric. We will value simplicity over something fancy here. For each kid, we will sum up their point value from each question to create a total “violence score”."
      ]
    },
    {
      "cell_type": "code",
      "execution_count": null,
      "metadata": {
        "id": "_otKB84N9vjj"
      },
      "outputs": [],
      "source": [
        "#sum up total\n",
        "df_metric['total'] = df_metric.apply(lambda x: x['p6b35'] + x['p6b37'] + x['p6b41'] + x['p6b42'] \n",
        "                                     + x['p6b45'] + x['k6d61d'] + x['k6d61i'] + x['k6d61l'], axis=1)"
      ]
    },
    {
      "cell_type": "markdown",
      "metadata": {
        "id": "OaSyY0JT-ail"
      },
      "source": [
        "When we do machine learning, it’ll make more sense to do classification based on violence levels than do regression on the violence score. The score is relatively arbitrary and just a product of our own best judgment. We label the bins with a scale from 1-5, with 1 representing least prone to violence."
      ]
    },
    {
      "cell_type": "code",
      "execution_count": null,
      "metadata": {
        "colab": {
          "base_uri": "https://localhost:8080/",
          "height": 206
        },
        "id": "Kmbyx8z9-XzH",
        "outputId": "28e0ddaa-e66c-4929-ea85-7bd3562b60d1"
      },
      "outputs": [
        {
          "data": {
            "text/html": [
              "\n",
              "  <div id=\"df-45c007ea-108b-4221-999a-11571ae3b13e\">\n",
              "    <div class=\"colab-df-container\">\n",
              "      <div>\n",
              "<style scoped>\n",
              "    .dataframe tbody tr th:only-of-type {\n",
              "        vertical-align: middle;\n",
              "    }\n",
              "\n",
              "    .dataframe tbody tr th {\n",
              "        vertical-align: top;\n",
              "    }\n",
              "\n",
              "    .dataframe thead th {\n",
              "        text-align: right;\n",
              "    }\n",
              "</style>\n",
              "<table border=\"1\" class=\"dataframe\">\n",
              "  <thead>\n",
              "    <tr style=\"text-align: right;\">\n",
              "      <th></th>\n",
              "      <th>idnum</th>\n",
              "      <th>p6b35</th>\n",
              "      <th>p6b37</th>\n",
              "      <th>p6b41</th>\n",
              "      <th>p6b42</th>\n",
              "      <th>p6b45</th>\n",
              "      <th>k6d61d</th>\n",
              "      <th>k6d61i</th>\n",
              "      <th>k6d61l</th>\n",
              "      <th>total</th>\n",
              "      <th>total_bins</th>\n",
              "    </tr>\n",
              "  </thead>\n",
              "  <tbody>\n",
              "    <tr>\n",
              "      <th>0</th>\n",
              "      <td>0001</td>\n",
              "      <td>0</td>\n",
              "      <td>0</td>\n",
              "      <td>0</td>\n",
              "      <td>0</td>\n",
              "      <td>0</td>\n",
              "      <td>0</td>\n",
              "      <td>0</td>\n",
              "      <td>0</td>\n",
              "      <td>0</td>\n",
              "      <td>1</td>\n",
              "    </tr>\n",
              "    <tr>\n",
              "      <th>1</th>\n",
              "      <td>0002</td>\n",
              "      <td>0</td>\n",
              "      <td>0</td>\n",
              "      <td>0</td>\n",
              "      <td>0</td>\n",
              "      <td>0</td>\n",
              "      <td>0</td>\n",
              "      <td>0</td>\n",
              "      <td>6</td>\n",
              "      <td>6</td>\n",
              "      <td>2</td>\n",
              "    </tr>\n",
              "    <tr>\n",
              "      <th>2</th>\n",
              "      <td>0003</td>\n",
              "      <td>0</td>\n",
              "      <td>0</td>\n",
              "      <td>0</td>\n",
              "      <td>0</td>\n",
              "      <td>0</td>\n",
              "      <td>0</td>\n",
              "      <td>0</td>\n",
              "      <td>0</td>\n",
              "      <td>0</td>\n",
              "      <td>1</td>\n",
              "    </tr>\n",
              "    <tr>\n",
              "      <th>3</th>\n",
              "      <td>0004</td>\n",
              "      <td>0</td>\n",
              "      <td>0</td>\n",
              "      <td>0</td>\n",
              "      <td>0</td>\n",
              "      <td>0</td>\n",
              "      <td>0</td>\n",
              "      <td>0</td>\n",
              "      <td>0</td>\n",
              "      <td>0</td>\n",
              "      <td>1</td>\n",
              "    </tr>\n",
              "    <tr>\n",
              "      <th>5</th>\n",
              "      <td>0006</td>\n",
              "      <td>10</td>\n",
              "      <td>0</td>\n",
              "      <td>0</td>\n",
              "      <td>0</td>\n",
              "      <td>0</td>\n",
              "      <td>0</td>\n",
              "      <td>0</td>\n",
              "      <td>0</td>\n",
              "      <td>10</td>\n",
              "      <td>2</td>\n",
              "    </tr>\n",
              "  </tbody>\n",
              "</table>\n",
              "</div>\n",
              "      <button class=\"colab-df-convert\" onclick=\"convertToInteractive('df-45c007ea-108b-4221-999a-11571ae3b13e')\"\n",
              "              title=\"Convert this dataframe to an interactive table.\"\n",
              "              style=\"display:none;\">\n",
              "        \n",
              "  <svg xmlns=\"http://www.w3.org/2000/svg\" height=\"24px\"viewBox=\"0 0 24 24\"\n",
              "       width=\"24px\">\n",
              "    <path d=\"M0 0h24v24H0V0z\" fill=\"none\"/>\n",
              "    <path d=\"M18.56 5.44l.94 2.06.94-2.06 2.06-.94-2.06-.94-.94-2.06-.94 2.06-2.06.94zm-11 1L8.5 8.5l.94-2.06 2.06-.94-2.06-.94L8.5 2.5l-.94 2.06-2.06.94zm10 10l.94 2.06.94-2.06 2.06-.94-2.06-.94-.94-2.06-.94 2.06-2.06.94z\"/><path d=\"M17.41 7.96l-1.37-1.37c-.4-.4-.92-.59-1.43-.59-.52 0-1.04.2-1.43.59L10.3 9.45l-7.72 7.72c-.78.78-.78 2.05 0 2.83L4 21.41c.39.39.9.59 1.41.59.51 0 1.02-.2 1.41-.59l7.78-7.78 2.81-2.81c.8-.78.8-2.07 0-2.86zM5.41 20L4 18.59l7.72-7.72 1.47 1.35L5.41 20z\"/>\n",
              "  </svg>\n",
              "      </button>\n",
              "      \n",
              "  <style>\n",
              "    .colab-df-container {\n",
              "      display:flex;\n",
              "      flex-wrap:wrap;\n",
              "      gap: 12px;\n",
              "    }\n",
              "\n",
              "    .colab-df-convert {\n",
              "      background-color: #E8F0FE;\n",
              "      border: none;\n",
              "      border-radius: 50%;\n",
              "      cursor: pointer;\n",
              "      display: none;\n",
              "      fill: #1967D2;\n",
              "      height: 32px;\n",
              "      padding: 0 0 0 0;\n",
              "      width: 32px;\n",
              "    }\n",
              "\n",
              "    .colab-df-convert:hover {\n",
              "      background-color: #E2EBFA;\n",
              "      box-shadow: 0px 1px 2px rgba(60, 64, 67, 0.3), 0px 1px 3px 1px rgba(60, 64, 67, 0.15);\n",
              "      fill: #174EA6;\n",
              "    }\n",
              "\n",
              "    [theme=dark] .colab-df-convert {\n",
              "      background-color: #3B4455;\n",
              "      fill: #D2E3FC;\n",
              "    }\n",
              "\n",
              "    [theme=dark] .colab-df-convert:hover {\n",
              "      background-color: #434B5C;\n",
              "      box-shadow: 0px 1px 3px 1px rgba(0, 0, 0, 0.15);\n",
              "      filter: drop-shadow(0px 1px 2px rgba(0, 0, 0, 0.3));\n",
              "      fill: #FFFFFF;\n",
              "    }\n",
              "  </style>\n",
              "\n",
              "      <script>\n",
              "        const buttonEl =\n",
              "          document.querySelector('#df-45c007ea-108b-4221-999a-11571ae3b13e button.colab-df-convert');\n",
              "        buttonEl.style.display =\n",
              "          google.colab.kernel.accessAllowed ? 'block' : 'none';\n",
              "\n",
              "        async function convertToInteractive(key) {\n",
              "          const element = document.querySelector('#df-45c007ea-108b-4221-999a-11571ae3b13e');\n",
              "          const dataTable =\n",
              "            await google.colab.kernel.invokeFunction('convertToInteractive',\n",
              "                                                     [key], {});\n",
              "          if (!dataTable) return;\n",
              "\n",
              "          const docLinkHtml = 'Like what you see? Visit the ' +\n",
              "            '<a target=\"_blank\" href=https://colab.research.google.com/notebooks/data_table.ipynb>data table notebook</a>'\n",
              "            + ' to learn more about interactive tables.';\n",
              "          element.innerHTML = '';\n",
              "          dataTable['output_type'] = 'display_data';\n",
              "          await google.colab.output.renderOutput(dataTable, element);\n",
              "          const docLink = document.createElement('div');\n",
              "          docLink.innerHTML = docLinkHtml;\n",
              "          element.appendChild(docLink);\n",
              "        }\n",
              "      </script>\n",
              "    </div>\n",
              "  </div>\n",
              "  "
            ],
            "text/plain": [
              "  idnum  p6b35  p6b37  p6b41  p6b42  p6b45  k6d61d  k6d61i  k6d61l  total  \\\n",
              "0  0001      0      0      0      0      0       0       0       0      0   \n",
              "1  0002      0      0      0      0      0       0       0       6      6   \n",
              "2  0003      0      0      0      0      0       0       0       0      0   \n",
              "3  0004      0      0      0      0      0       0       0       0      0   \n",
              "5  0006     10      0      0      0      0       0       0       0     10   \n",
              "\n",
              "  total_bins  \n",
              "0          1  \n",
              "1          2  \n",
              "2          1  \n",
              "3          1  \n",
              "5          2  "
            ]
          },
          "execution_count": 109,
          "metadata": {},
          "output_type": "execute_result"
        }
      ],
      "source": [
        "#create bins\n",
        "df_metric['total_bins'] = pd.cut(df_metric['total'], [-1,1,11,31,51,199],labels=[1,2,3,4,5])\n",
        "\n",
        "df_metric.head()"
      ]
    },
    {
      "cell_type": "markdown",
      "metadata": {
        "id": "CcJIhLjVBdS6"
      },
      "source": [
        "###<u>**Cleaning Baseline Survey Data**</u>\n",
        "\n",
        "Awesome, now we have a numeric representation of the strength of a child’s violent tendencies based off the survey questions in wave 6. Now, let’s work with the data from baseline and identify questions we’ll try to use to predict violence. \n",
        "\n",
        "Since most of our data is ordinal or categorical, we can’t just quickly compute the correlations of baseline questions with the violence score to see what’s important. Each question has to be interpreted and cleaned individually. There are A LOT of questions in the baseline mother survey though (in fact the [official survey PDF](https://fragilefamilies.princeton.edu/sites/g/files/toruqf2001/files/ff_mom_q0.pdf) is 47 pages long!). We’ll read through the survey ourselves and use human judgment to decide what questions might intuitively be worth looking at. We’ll try to be liberal here so as not to skip over questions which might have lots of explanatory power.\n",
        "\n",
        "Unfortunately, there are some sections which were only asked to a subset of the entire survey group. While some of these questions, such as \"How often does bio dad hit or slaps you when he is angry?\", would be very interesting to look at in the context of child violence, doing so would severely limit our sample size. We choose to only include questions which were asked to all participants.\n",
        "\n",
        "After a long time scrolling through surveys (not the most exciting read), we select 12 questions from the baseline wave that we want to focus on. Six are directly from the mother survey, and six are constructed by the researchers based off survey responses. When available, we favor these constructed responses as they synthesize information from multiple questions and are more reliable.\n",
        "\n",
        "As before let’s load just these questions into a separate dataframe, df1.\n"
      ]
    },
    {
      "cell_type": "code",
      "execution_count": null,
      "metadata": {
        "id": "ieJkLPDRBwS8"
      },
      "outputs": [],
      "source": [
        "#Select questions we are choosing to focus on\n",
        "df1 = pd.DataFrame(dfwave1[['idnum','m1b1a','cm1relf','m1f3','m1g2','m1g3','m1g4','cm1edu',\n",
        "                        'cf1edu','cm1ffinjail','cm1inpov','m1f7']])"
      ]
    },
    {
      "cell_type": "markdown",
      "metadata": {
        "id": "NWuEvUQ2Dd1h"
      },
      "source": [
        "\n",
        "Now we must go through each question one by one and clean it. How fun! Following the same logic explained before, we’ll get rid of all missing values. Then, for all questions without numerical answers, we replace all the answer codes (ints) with what they actually mean and tell Pandas to treat them as categories. This will allow us to group by categories in our analysis and make it easier to create dummy variables for machine learning later. \n",
        "\n",
        "In some instances, such as the constructed relationship status question cm1relf, we combine some of the survey response categories together. In this case, we coded Hardly Talk, Never Talk, and Father Unknown together as Never Talk. The distinction between the original categories is not relevant for our analysis and having fewer categories is preferred.\n",
        "\n",
        "*   cm1relf - Constructed-Household Relationship\n",
        "*   m1b1a - How many years did you know Baby's Father before you got pregnant?\n",
        "*   m1f3 - Do you live in a public housing project?\n",
        "*   m1g2 - During the preg, how often did you drink alcohol?\n",
        "*   m1g3 - During the preg, how often did you use drugs?\n",
        "*   m1g4 - During the preg, how many cigarettes did you smoke?\n",
        "*   cm1edu - Constructed - Mother baseline education (own report)\n",
        "*   cf1edu - Constructed - Father baseline education (father report, then mother report)\n",
        "*   cm1ffinjail - Constructed - mother and father reports, father in jail at either baseline interview\n",
        "*   cm1inpov - Constructed - Poverty ratio - mother's household income/poverty threshold\n",
        "*   m1f7 - What is your religious preference?\n"
      ]
    },
    {
      "cell_type": "code",
      "execution_count": null,
      "metadata": {
        "id": "gLxvmXtsX_49"
      },
      "outputs": [],
      "source": [
        "#Household Relationship\n",
        "df1.cm1relf = df1.cm1relf.replace([-9,-3,1,2,3,4,5,6,7], [pd.NA,pd.NA,'Married','Cohab','Visiting',\n",
        "                                                          'Friends','Never Talk','Never Talk','Never Talk'])\n",
        "df1.cm1relf = df1.cm1relf.astype('category')\n",
        "\n",
        "#How many years did you know Baby's Father before you got pregnant?\n",
        "df1.m1b1a = df1.m1b1a.replace([-1,-2,-3,-9], pd.NA)\n",
        "\n",
        "#Do you live in a public housing project?\n",
        "df1.m1f3 = df1.m1f3.replace([-9,-3,-2,1,2], [pd.NA, pd.NA, pd.NA, True, False]) #True = lives in public housing\n",
        "df1.m1f3 = df1.m1f3.astype('boolean')\n",
        "\n",
        "#During the preg, how often did you drink alcohol?\n",
        "df1.m1g2 = df1.m1g2.replace([-9,-3,-2,1,2,3,4,5], [pd.NA, pd.NA, pd.NA, 'Often', 'Often','Often','Sometimes','Never']) \n",
        "df1.m1g2 = df1.m1g2.astype('category')\n",
        "\n",
        "#During the preg, how often did you use drugs?\n",
        "df1.m1g3 = df1.m1g3.replace([-9,-3,-1,1,2,3,4,5], [pd.NA, pd.NA, pd.NA, 'Often', 'Often','Often','Sometimes','Never']) \n",
        "df1.m1g3 = df1.m1g3.astype('category')\n",
        "\n",
        "#During the preg, how many cigarettes did you smoke?\n",
        "df1.m1g4 = df1.m1g4.replace([-9,-3,-2,1,2,3,4], [pd.NA, pd.NA, pd.NA, 'Often', 'Often','Sometimes','Never']) \n",
        "df1.m1g4 = df1.m1g4.astype('category')\n",
        "\n",
        "#Mother baseline education (own report)\n",
        "df1.cm1edu = df1.cm1edu.replace([-9,-3,1,2,3,4], [pd.NA, pd.NA, 'Less HS', 'HS', 'Some college / Tech', 'College / Grad'])\n",
        "df1.cm1edu = df1.cm1edu.astype('category')\n",
        "\n",
        "#Father baseline education (father report, then mother report)\n",
        "df1.cf1edu = df1.cf1edu.replace([-9,-3,1,2,3,4], [pd.NA, pd.NA, 'Less HS', 'HS', 'Some college / Tech', 'College / Grad'])\n",
        "df1.cf1edu = df1.cf1edu.astype('category')\n",
        "\n",
        "#mother and father reports, father in jail at either baseline interview\n",
        "df1.cm1ffinjail = df1.cm1ffinjail.replace([-9,-3,0,1], [pd.NA, pd.NA, False, True])\n",
        "\n",
        "#Poverty ratio - mother's household income/poverty threshold\n",
        "#Broke up into 5 bins\n",
        "df1['povlevel'] = pd.cut(df1['cm1inpov'], [-1,1,2,4,8,14],labels=['<1','1-2','2-4','4-8','8+'])\n",
        "df1.cm1inpov = df1.cm1inpov.replace(-9, pd.NA)\n",
        "\n",
        "#What is your religious preference?\n",
        "df1.m1f7 = df1.m1f7.replace([-9,-3,-2,-1,1,2,3,4,5,6,7,8,9,10,11,12,13,14,101,102,103,104],\n",
        "                            [pd.NA,pd.NA,pd.NA,pd.NA,'None','Christian','Catholic','Jewish',\n",
        "                             'Muslim','Christian','Christian','Christian','Christian','Christian',\n",
        "                             'Christian','Christian','Christian','Other','Christian','Christian','Christian','Christian'])\n",
        "df1.m1f7 = df1.m1f7.astype('category')"
      ]
    },
    {
      "cell_type": "markdown",
      "metadata": {
        "id": "a6XR7fEAD-sU"
      },
      "source": [
        "Let's make sure all NAs are dropped. We already coded all of the categorical questions as categories, now we'll make sure the remaining columns are properly typed as well."
      ]
    },
    {
      "cell_type": "code",
      "execution_count": null,
      "metadata": {
        "colab": {
          "base_uri": "https://localhost:8080/",
          "height": 206
        },
        "id": "_vc7ab4jD_Yj",
        "outputId": "dcb41efd-14aa-4d37-fdc7-f6dd688c4c47"
      },
      "outputs": [
        {
          "data": {
            "text/html": [
              "\n",
              "  <div id=\"df-d7002c4b-5851-4d7a-b24d-f8eccdd77298\">\n",
              "    <div class=\"colab-df-container\">\n",
              "      <div>\n",
              "<style scoped>\n",
              "    .dataframe tbody tr th:only-of-type {\n",
              "        vertical-align: middle;\n",
              "    }\n",
              "\n",
              "    .dataframe tbody tr th {\n",
              "        vertical-align: top;\n",
              "    }\n",
              "\n",
              "    .dataframe thead th {\n",
              "        text-align: right;\n",
              "    }\n",
              "</style>\n",
              "<table border=\"1\" class=\"dataframe\">\n",
              "  <thead>\n",
              "    <tr style=\"text-align: right;\">\n",
              "      <th></th>\n",
              "      <th>idnum</th>\n",
              "      <th>m1b1a</th>\n",
              "      <th>cm1relf</th>\n",
              "      <th>m1f3</th>\n",
              "      <th>m1g2</th>\n",
              "      <th>m1g3</th>\n",
              "      <th>m1g4</th>\n",
              "      <th>cm1edu</th>\n",
              "      <th>cf1edu</th>\n",
              "      <th>cm1ffinjail</th>\n",
              "      <th>cm1inpov</th>\n",
              "      <th>m1f7</th>\n",
              "      <th>povlevel</th>\n",
              "      <th>m1ba</th>\n",
              "    </tr>\n",
              "  </thead>\n",
              "  <tbody>\n",
              "    <tr>\n",
              "      <th>0</th>\n",
              "      <td>1</td>\n",
              "      <td>3.0</td>\n",
              "      <td>Cohab</td>\n",
              "      <td>False</td>\n",
              "      <td>Sometimes</td>\n",
              "      <td>Never</td>\n",
              "      <td>Never</td>\n",
              "      <td>Some college / Tech</td>\n",
              "      <td>Some college / Tech</td>\n",
              "      <td>False</td>\n",
              "      <td>2.1</td>\n",
              "      <td>None</td>\n",
              "      <td>2-4</td>\n",
              "      <td>3</td>\n",
              "    </tr>\n",
              "    <tr>\n",
              "      <th>1</th>\n",
              "      <td>2</td>\n",
              "      <td>11.0</td>\n",
              "      <td>Cohab</td>\n",
              "      <td>False</td>\n",
              "      <td>Never</td>\n",
              "      <td>Never</td>\n",
              "      <td>Never</td>\n",
              "      <td>Less HS</td>\n",
              "      <td>Less HS</td>\n",
              "      <td>False</td>\n",
              "      <td>0.5</td>\n",
              "      <td>Christian</td>\n",
              "      <td>&lt;1</td>\n",
              "      <td>11</td>\n",
              "    </tr>\n",
              "    <tr>\n",
              "      <th>2</th>\n",
              "      <td>3</td>\n",
              "      <td>1.0</td>\n",
              "      <td>Cohab</td>\n",
              "      <td>False</td>\n",
              "      <td>Never</td>\n",
              "      <td>Never</td>\n",
              "      <td>Never</td>\n",
              "      <td>Some college / Tech</td>\n",
              "      <td>Some college / Tech</td>\n",
              "      <td>False</td>\n",
              "      <td>4.9</td>\n",
              "      <td>Christian</td>\n",
              "      <td>4-8</td>\n",
              "      <td>1</td>\n",
              "    </tr>\n",
              "    <tr>\n",
              "      <th>3</th>\n",
              "      <td>4</td>\n",
              "      <td>1.0</td>\n",
              "      <td>Cohab</td>\n",
              "      <td>False</td>\n",
              "      <td>Never</td>\n",
              "      <td>Never</td>\n",
              "      <td>Never</td>\n",
              "      <td>HS</td>\n",
              "      <td>HS</td>\n",
              "      <td>False</td>\n",
              "      <td>1.3</td>\n",
              "      <td>Catholic</td>\n",
              "      <td>1-2</td>\n",
              "      <td>1</td>\n",
              "    </tr>\n",
              "    <tr>\n",
              "      <th>5</th>\n",
              "      <td>6</td>\n",
              "      <td>2.0</td>\n",
              "      <td>Visiting</td>\n",
              "      <td>True</td>\n",
              "      <td>Never</td>\n",
              "      <td>Never</td>\n",
              "      <td>Never</td>\n",
              "      <td>HS</td>\n",
              "      <td>HS</td>\n",
              "      <td>False</td>\n",
              "      <td>1.5</td>\n",
              "      <td>Christian</td>\n",
              "      <td>1-2</td>\n",
              "      <td>2</td>\n",
              "    </tr>\n",
              "  </tbody>\n",
              "</table>\n",
              "</div>\n",
              "      <button class=\"colab-df-convert\" onclick=\"convertToInteractive('df-d7002c4b-5851-4d7a-b24d-f8eccdd77298')\"\n",
              "              title=\"Convert this dataframe to an interactive table.\"\n",
              "              style=\"display:none;\">\n",
              "        \n",
              "  <svg xmlns=\"http://www.w3.org/2000/svg\" height=\"24px\"viewBox=\"0 0 24 24\"\n",
              "       width=\"24px\">\n",
              "    <path d=\"M0 0h24v24H0V0z\" fill=\"none\"/>\n",
              "    <path d=\"M18.56 5.44l.94 2.06.94-2.06 2.06-.94-2.06-.94-.94-2.06-.94 2.06-2.06.94zm-11 1L8.5 8.5l.94-2.06 2.06-.94-2.06-.94L8.5 2.5l-.94 2.06-2.06.94zm10 10l.94 2.06.94-2.06 2.06-.94-2.06-.94-.94-2.06-.94 2.06-2.06.94z\"/><path d=\"M17.41 7.96l-1.37-1.37c-.4-.4-.92-.59-1.43-.59-.52 0-1.04.2-1.43.59L10.3 9.45l-7.72 7.72c-.78.78-.78 2.05 0 2.83L4 21.41c.39.39.9.59 1.41.59.51 0 1.02-.2 1.41-.59l7.78-7.78 2.81-2.81c.8-.78.8-2.07 0-2.86zM5.41 20L4 18.59l7.72-7.72 1.47 1.35L5.41 20z\"/>\n",
              "  </svg>\n",
              "      </button>\n",
              "      \n",
              "  <style>\n",
              "    .colab-df-container {\n",
              "      display:flex;\n",
              "      flex-wrap:wrap;\n",
              "      gap: 12px;\n",
              "    }\n",
              "\n",
              "    .colab-df-convert {\n",
              "      background-color: #E8F0FE;\n",
              "      border: none;\n",
              "      border-radius: 50%;\n",
              "      cursor: pointer;\n",
              "      display: none;\n",
              "      fill: #1967D2;\n",
              "      height: 32px;\n",
              "      padding: 0 0 0 0;\n",
              "      width: 32px;\n",
              "    }\n",
              "\n",
              "    .colab-df-convert:hover {\n",
              "      background-color: #E2EBFA;\n",
              "      box-shadow: 0px 1px 2px rgba(60, 64, 67, 0.3), 0px 1px 3px 1px rgba(60, 64, 67, 0.15);\n",
              "      fill: #174EA6;\n",
              "    }\n",
              "\n",
              "    [theme=dark] .colab-df-convert {\n",
              "      background-color: #3B4455;\n",
              "      fill: #D2E3FC;\n",
              "    }\n",
              "\n",
              "    [theme=dark] .colab-df-convert:hover {\n",
              "      background-color: #434B5C;\n",
              "      box-shadow: 0px 1px 3px 1px rgba(0, 0, 0, 0.15);\n",
              "      filter: drop-shadow(0px 1px 2px rgba(0, 0, 0, 0.3));\n",
              "      fill: #FFFFFF;\n",
              "    }\n",
              "  </style>\n",
              "\n",
              "      <script>\n",
              "        const buttonEl =\n",
              "          document.querySelector('#df-d7002c4b-5851-4d7a-b24d-f8eccdd77298 button.colab-df-convert');\n",
              "        buttonEl.style.display =\n",
              "          google.colab.kernel.accessAllowed ? 'block' : 'none';\n",
              "\n",
              "        async function convertToInteractive(key) {\n",
              "          const element = document.querySelector('#df-d7002c4b-5851-4d7a-b24d-f8eccdd77298');\n",
              "          const dataTable =\n",
              "            await google.colab.kernel.invokeFunction('convertToInteractive',\n",
              "                                                     [key], {});\n",
              "          if (!dataTable) return;\n",
              "\n",
              "          const docLinkHtml = 'Like what you see? Visit the ' +\n",
              "            '<a target=\"_blank\" href=https://colab.research.google.com/notebooks/data_table.ipynb>data table notebook</a>'\n",
              "            + ' to learn more about interactive tables.';\n",
              "          element.innerHTML = '';\n",
              "          dataTable['output_type'] = 'display_data';\n",
              "          await google.colab.output.renderOutput(dataTable, element);\n",
              "          const docLink = document.createElement('div');\n",
              "          docLink.innerHTML = docLinkHtml;\n",
              "          element.appendChild(docLink);\n",
              "        }\n",
              "      </script>\n",
              "    </div>\n",
              "  </div>\n",
              "  "
            ],
            "text/plain": [
              "   idnum m1b1a   cm1relf   m1f3       m1g2   m1g3   m1g4               cm1edu  \\\n",
              "0      1   3.0     Cohab  False  Sometimes  Never  Never  Some college / Tech   \n",
              "1      2  11.0     Cohab  False      Never  Never  Never              Less HS   \n",
              "2      3   1.0     Cohab  False      Never  Never  Never  Some college / Tech   \n",
              "3      4   1.0     Cohab  False      Never  Never  Never                   HS   \n",
              "5      6   2.0  Visiting   True      Never  Never  Never                   HS   \n",
              "\n",
              "                cf1edu  cm1ffinjail  cm1inpov       m1f7 povlevel  m1ba  \n",
              "0  Some college / Tech        False       2.1       None      2-4     3  \n",
              "1              Less HS        False       0.5  Christian       <1    11  \n",
              "2  Some college / Tech        False       4.9  Christian      4-8     1  \n",
              "3                   HS        False       1.3   Catholic      1-2     1  \n",
              "5                   HS        False       1.5  Christian      1-2     2  "
            ]
          },
          "execution_count": 112,
          "metadata": {},
          "output_type": "execute_result"
        }
      ],
      "source": [
        "#drop NAs\n",
        "df1 = df1.dropna(how='any')\n",
        "\n",
        "#fix datatypes of columns\n",
        "df1.loc[:, 'idnum'] = df1.idnum.astype('int')\n",
        "df1.loc[:, 'm1ba'] = df1.m1b1a.astype('int')\n",
        "df1.loc[:, 'cm1inpov'] = df1.cm1inpov.astype('float')\n",
        "df1.loc[:, 'cm1ffinjail'] = df1.cm1ffinjail.astype('boolean')\n",
        "df1.head()"
      ]
    },
    {
      "cell_type": "markdown",
      "metadata": {
        "id": "siTgQZWpF2UN"
      },
      "source": [
        "Now that we’ve cleaned the relevant Baseline and Wave 6 data separately, let’s merge the two dataframes so we can start working with them! Each respondent is conveniently identified by an idnum column that stays constant through all waves, so we’ll just join on that."
      ]
    },
    {
      "cell_type": "code",
      "execution_count": null,
      "metadata": {
        "colab": {
          "base_uri": "https://localhost:8080/",
          "height": 314
        },
        "id": "2qX5B-TEZPpX",
        "outputId": "2056313b-f37c-40f4-ad0b-d7f5b4f9c273"
      },
      "outputs": [
        {
          "data": {
            "text/html": [
              "\n",
              "  <div id=\"df-c5f3a863-83c4-413e-9794-33e197ea2430\">\n",
              "    <div class=\"colab-df-container\">\n",
              "      <div>\n",
              "<style scoped>\n",
              "    .dataframe tbody tr th:only-of-type {\n",
              "        vertical-align: middle;\n",
              "    }\n",
              "\n",
              "    .dataframe tbody tr th {\n",
              "        vertical-align: top;\n",
              "    }\n",
              "\n",
              "    .dataframe thead th {\n",
              "        text-align: right;\n",
              "    }\n",
              "</style>\n",
              "<table border=\"1\" class=\"dataframe\">\n",
              "  <thead>\n",
              "    <tr style=\"text-align: right;\">\n",
              "      <th></th>\n",
              "      <th>idnum</th>\n",
              "      <th>m1b1a</th>\n",
              "      <th>cm1relf</th>\n",
              "      <th>m1f3</th>\n",
              "      <th>m1g2</th>\n",
              "      <th>m1g3</th>\n",
              "      <th>m1g4</th>\n",
              "      <th>cm1edu</th>\n",
              "      <th>cf1edu</th>\n",
              "      <th>cm1ffinjail</th>\n",
              "      <th>...</th>\n",
              "      <th>p6b35</th>\n",
              "      <th>p6b37</th>\n",
              "      <th>p6b41</th>\n",
              "      <th>p6b42</th>\n",
              "      <th>p6b45</th>\n",
              "      <th>k6d61d</th>\n",
              "      <th>k6d61i</th>\n",
              "      <th>k6d61l</th>\n",
              "      <th>total</th>\n",
              "      <th>total_bins</th>\n",
              "    </tr>\n",
              "  </thead>\n",
              "  <tbody>\n",
              "    <tr>\n",
              "      <th>0</th>\n",
              "      <td>1</td>\n",
              "      <td>3.0</td>\n",
              "      <td>Cohab</td>\n",
              "      <td>False</td>\n",
              "      <td>Sometimes</td>\n",
              "      <td>Never</td>\n",
              "      <td>Never</td>\n",
              "      <td>Some college / Tech</td>\n",
              "      <td>Some college / Tech</td>\n",
              "      <td>False</td>\n",
              "      <td>...</td>\n",
              "      <td>0</td>\n",
              "      <td>0</td>\n",
              "      <td>0</td>\n",
              "      <td>0</td>\n",
              "      <td>0</td>\n",
              "      <td>0</td>\n",
              "      <td>0</td>\n",
              "      <td>0</td>\n",
              "      <td>0</td>\n",
              "      <td>1</td>\n",
              "    </tr>\n",
              "    <tr>\n",
              "      <th>1</th>\n",
              "      <td>2</td>\n",
              "      <td>11.0</td>\n",
              "      <td>Cohab</td>\n",
              "      <td>False</td>\n",
              "      <td>Never</td>\n",
              "      <td>Never</td>\n",
              "      <td>Never</td>\n",
              "      <td>Less HS</td>\n",
              "      <td>Less HS</td>\n",
              "      <td>False</td>\n",
              "      <td>...</td>\n",
              "      <td>0</td>\n",
              "      <td>0</td>\n",
              "      <td>0</td>\n",
              "      <td>0</td>\n",
              "      <td>0</td>\n",
              "      <td>0</td>\n",
              "      <td>0</td>\n",
              "      <td>6</td>\n",
              "      <td>6</td>\n",
              "      <td>2</td>\n",
              "    </tr>\n",
              "    <tr>\n",
              "      <th>2</th>\n",
              "      <td>3</td>\n",
              "      <td>1.0</td>\n",
              "      <td>Cohab</td>\n",
              "      <td>False</td>\n",
              "      <td>Never</td>\n",
              "      <td>Never</td>\n",
              "      <td>Never</td>\n",
              "      <td>Some college / Tech</td>\n",
              "      <td>Some college / Tech</td>\n",
              "      <td>False</td>\n",
              "      <td>...</td>\n",
              "      <td>0</td>\n",
              "      <td>0</td>\n",
              "      <td>0</td>\n",
              "      <td>0</td>\n",
              "      <td>0</td>\n",
              "      <td>0</td>\n",
              "      <td>0</td>\n",
              "      <td>0</td>\n",
              "      <td>0</td>\n",
              "      <td>1</td>\n",
              "    </tr>\n",
              "    <tr>\n",
              "      <th>3</th>\n",
              "      <td>4</td>\n",
              "      <td>1.0</td>\n",
              "      <td>Cohab</td>\n",
              "      <td>False</td>\n",
              "      <td>Never</td>\n",
              "      <td>Never</td>\n",
              "      <td>Never</td>\n",
              "      <td>HS</td>\n",
              "      <td>HS</td>\n",
              "      <td>False</td>\n",
              "      <td>...</td>\n",
              "      <td>0</td>\n",
              "      <td>0</td>\n",
              "      <td>0</td>\n",
              "      <td>0</td>\n",
              "      <td>0</td>\n",
              "      <td>0</td>\n",
              "      <td>0</td>\n",
              "      <td>0</td>\n",
              "      <td>0</td>\n",
              "      <td>1</td>\n",
              "    </tr>\n",
              "    <tr>\n",
              "      <th>4</th>\n",
              "      <td>6</td>\n",
              "      <td>2.0</td>\n",
              "      <td>Visiting</td>\n",
              "      <td>True</td>\n",
              "      <td>Never</td>\n",
              "      <td>Never</td>\n",
              "      <td>Never</td>\n",
              "      <td>HS</td>\n",
              "      <td>HS</td>\n",
              "      <td>False</td>\n",
              "      <td>...</td>\n",
              "      <td>10</td>\n",
              "      <td>0</td>\n",
              "      <td>0</td>\n",
              "      <td>0</td>\n",
              "      <td>0</td>\n",
              "      <td>0</td>\n",
              "      <td>0</td>\n",
              "      <td>0</td>\n",
              "      <td>10</td>\n",
              "      <td>2</td>\n",
              "    </tr>\n",
              "  </tbody>\n",
              "</table>\n",
              "<p>5 rows × 24 columns</p>\n",
              "</div>\n",
              "      <button class=\"colab-df-convert\" onclick=\"convertToInteractive('df-c5f3a863-83c4-413e-9794-33e197ea2430')\"\n",
              "              title=\"Convert this dataframe to an interactive table.\"\n",
              "              style=\"display:none;\">\n",
              "        \n",
              "  <svg xmlns=\"http://www.w3.org/2000/svg\" height=\"24px\"viewBox=\"0 0 24 24\"\n",
              "       width=\"24px\">\n",
              "    <path d=\"M0 0h24v24H0V0z\" fill=\"none\"/>\n",
              "    <path d=\"M18.56 5.44l.94 2.06.94-2.06 2.06-.94-2.06-.94-.94-2.06-.94 2.06-2.06.94zm-11 1L8.5 8.5l.94-2.06 2.06-.94-2.06-.94L8.5 2.5l-.94 2.06-2.06.94zm10 10l.94 2.06.94-2.06 2.06-.94-2.06-.94-.94-2.06-.94 2.06-2.06.94z\"/><path d=\"M17.41 7.96l-1.37-1.37c-.4-.4-.92-.59-1.43-.59-.52 0-1.04.2-1.43.59L10.3 9.45l-7.72 7.72c-.78.78-.78 2.05 0 2.83L4 21.41c.39.39.9.59 1.41.59.51 0 1.02-.2 1.41-.59l7.78-7.78 2.81-2.81c.8-.78.8-2.07 0-2.86zM5.41 20L4 18.59l7.72-7.72 1.47 1.35L5.41 20z\"/>\n",
              "  </svg>\n",
              "      </button>\n",
              "      \n",
              "  <style>\n",
              "    .colab-df-container {\n",
              "      display:flex;\n",
              "      flex-wrap:wrap;\n",
              "      gap: 12px;\n",
              "    }\n",
              "\n",
              "    .colab-df-convert {\n",
              "      background-color: #E8F0FE;\n",
              "      border: none;\n",
              "      border-radius: 50%;\n",
              "      cursor: pointer;\n",
              "      display: none;\n",
              "      fill: #1967D2;\n",
              "      height: 32px;\n",
              "      padding: 0 0 0 0;\n",
              "      width: 32px;\n",
              "    }\n",
              "\n",
              "    .colab-df-convert:hover {\n",
              "      background-color: #E2EBFA;\n",
              "      box-shadow: 0px 1px 2px rgba(60, 64, 67, 0.3), 0px 1px 3px 1px rgba(60, 64, 67, 0.15);\n",
              "      fill: #174EA6;\n",
              "    }\n",
              "\n",
              "    [theme=dark] .colab-df-convert {\n",
              "      background-color: #3B4455;\n",
              "      fill: #D2E3FC;\n",
              "    }\n",
              "\n",
              "    [theme=dark] .colab-df-convert:hover {\n",
              "      background-color: #434B5C;\n",
              "      box-shadow: 0px 1px 3px 1px rgba(0, 0, 0, 0.15);\n",
              "      filter: drop-shadow(0px 1px 2px rgba(0, 0, 0, 0.3));\n",
              "      fill: #FFFFFF;\n",
              "    }\n",
              "  </style>\n",
              "\n",
              "      <script>\n",
              "        const buttonEl =\n",
              "          document.querySelector('#df-c5f3a863-83c4-413e-9794-33e197ea2430 button.colab-df-convert');\n",
              "        buttonEl.style.display =\n",
              "          google.colab.kernel.accessAllowed ? 'block' : 'none';\n",
              "\n",
              "        async function convertToInteractive(key) {\n",
              "          const element = document.querySelector('#df-c5f3a863-83c4-413e-9794-33e197ea2430');\n",
              "          const dataTable =\n",
              "            await google.colab.kernel.invokeFunction('convertToInteractive',\n",
              "                                                     [key], {});\n",
              "          if (!dataTable) return;\n",
              "\n",
              "          const docLinkHtml = 'Like what you see? Visit the ' +\n",
              "            '<a target=\"_blank\" href=https://colab.research.google.com/notebooks/data_table.ipynb>data table notebook</a>'\n",
              "            + ' to learn more about interactive tables.';\n",
              "          element.innerHTML = '';\n",
              "          dataTable['output_type'] = 'display_data';\n",
              "          await google.colab.output.renderOutput(dataTable, element);\n",
              "          const docLink = document.createElement('div');\n",
              "          docLink.innerHTML = docLinkHtml;\n",
              "          element.appendChild(docLink);\n",
              "        }\n",
              "      </script>\n",
              "    </div>\n",
              "  </div>\n",
              "  "
            ],
            "text/plain": [
              "   idnum m1b1a   cm1relf   m1f3       m1g2   m1g3   m1g4               cm1edu  \\\n",
              "0      1   3.0     Cohab  False  Sometimes  Never  Never  Some college / Tech   \n",
              "1      2  11.0     Cohab  False      Never  Never  Never              Less HS   \n",
              "2      3   1.0     Cohab  False      Never  Never  Never  Some college / Tech   \n",
              "3      4   1.0     Cohab  False      Never  Never  Never                   HS   \n",
              "4      6   2.0  Visiting   True      Never  Never  Never                   HS   \n",
              "\n",
              "                cf1edu  cm1ffinjail  ...  p6b35 p6b37 p6b41  p6b42  p6b45  \\\n",
              "0  Some college / Tech        False  ...      0     0     0      0      0   \n",
              "1              Less HS        False  ...      0     0     0      0      0   \n",
              "2  Some college / Tech        False  ...      0     0     0      0      0   \n",
              "3                   HS        False  ...      0     0     0      0      0   \n",
              "4                   HS        False  ...     10     0     0      0      0   \n",
              "\n",
              "   k6d61d  k6d61i  k6d61l  total  total_bins  \n",
              "0       0       0       0      0           1  \n",
              "1       0       0       6      6           2  \n",
              "2       0       0       0      0           1  \n",
              "3       0       0       0      0           1  \n",
              "4       0       0       0     10           2  \n",
              "\n",
              "[5 rows x 24 columns]"
            ]
          },
          "execution_count": 113,
          "metadata": {},
          "output_type": "execute_result"
        }
      ],
      "source": [
        "#Change dtype of idnum (column which we are merging on). Each child is assigned an\n",
        "#idnum which allows for consistency across waves.\n",
        "df_metric['idnum'] = df_metric['idnum'].astype('int')\n",
        "df1['idnum'] = df1['idnum'].astype('int')\n",
        "\n",
        "#Merge\n",
        "df = pd.merge(df1, df_metric, on='idnum', how='inner')\n",
        "\n",
        "df.head()"
      ]
    },
    {
      "cell_type": "markdown",
      "metadata": {
        "id": "Y2ASsG1Laztc"
      },
      "source": [
        "##<u>**Data Exploration**</u>\n",
        "\n",
        "Let's start exploring our data!\n",
        "\n",
        "First let's make a relative frequency histogram of the violence metric to get a feel for what we're working with!"
      ]
    },
    {
      "cell_type": "code",
      "execution_count": null,
      "metadata": {
        "colab": {
          "base_uri": "https://localhost:8080/",
          "height": 513
        },
        "id": "rQGRMoTja2eU",
        "outputId": "ef086024-7c82-46c7-c95a-65467691b999"
      },
      "outputs": [
        {
          "data": {
            "image/png": "[encoded data removed]",
            "text/plain": [
              "<Figure size 576x576 with 1 Axes>"
            ]
          },
          "metadata": {},
          "output_type": "display_data"
        }
      ],
      "source": [
        "#Create plot using matplotlib\n",
        "fig, ax = plt.subplots(figsize=(8,8))\n",
        "df.total.hist(ax=ax, weights=100 * np.ones(len(df.total)) / len(df.total), \n",
        "              alpha = 0.65, bins = 15)\n",
        "ax.set(xlabel='Violence Metric Score', ylabel='Frequency', title='Scores on Violence Metric at Age 15')\n",
        "\n",
        "# Format for y axis ticks, e.g. '40%'\n",
        "fmt = '%.0f%%' \n",
        "yticks = mtick.FormatStrFormatter(fmt)\n",
        "ax.yaxis.set_major_formatter(yticks)\n",
        "ax.grid(False)\n",
        "plt.show()"
      ]
    },
    {
      "cell_type": "markdown",
      "metadata": {
        "id": "EE1oVVkNHNTc"
      },
      "source": [
        "The first bar accounts for violence scores between 0 and 5 but, based off our scoring system, the minimum total violence score for a person was 6 if they demonstrated a violent tendency in any question. Thus, the first bar really represents scores of 0. It appears that nearly 60% of kids have violence scores of 0 which is a good sign for humanity. Another nearly 20% have scores between 5 and 10 (meaning they demonstrated a violent tendency in just one question). This leaves the remaining 20% with violence scores over 10. "
      ]
    },
    {
      "cell_type": "markdown",
      "metadata": {
        "id": "vbntXtFvIYJI"
      },
      "source": [
        "Next, let's make a scatterplot of Violence Score and Mother's Household Income/Porverty Ratio. Intuitively, we would assume that people growing up in lower income areas might have weaker support systems and be more liekly to turn to violence."
      ]
    },
    {
      "cell_type": "code",
      "execution_count": null,
      "metadata": {
        "colab": {
          "base_uri": "https://localhost:8080/",
          "height": 513
        },
        "id": "_2Ha-xnxa9N3",
        "outputId": "b295215d-ea68-4711-9dcc-995bbed193ec"
      },
      "outputs": [
        {
          "data": {
            "image/png": "[encoded data removed]",
            "text/plain": [
              "<Figure size 576x576 with 1 Axes>"
            ]
          },
          "metadata": {},
          "output_type": "display_data"
        }
      ],
      "source": [
        "#Create a plot using matplotlib\n",
        "fig, ax = plt.subplots(figsize=(8,8))\n",
        "ax.scatter(df.cm1inpov, df.total, s=7, alpha=.8)\n",
        "ax.set(xlabel='Mother\\'s Household Income / Poverty Threshold', ylabel='Violence Metric Score', title='Violence vs Poverty Ratio')\n",
        "ax.grid(False)"
      ]
    },
    {
      "cell_type": "markdown",
      "metadata": {
        "id": "KAarnS40I5-7"
      },
      "source": [
        "Interesting! There appears to be a negative glance at first trend, as we suspected. Let's run a simple regression with these variables to see how strong this relationship is."
      ]
    },
    {
      "cell_type": "code",
      "execution_count": null,
      "metadata": {
        "colab": {
          "base_uri": "https://localhost:8080/"
        },
        "id": "zs4bzcpMfSFe",
        "outputId": "8fe50f6b-be0d-439e-afd7-6605b324d04e"
      },
      "outputs": [
        {
          "name": "stdout",
          "output_type": "stream",
          "text": [
            "                            OLS Regression Results                            \n",
            "==============================================================================\n",
            "Dep. Variable:                  total   R-squared:                       0.033\n",
            "Model:                            OLS   Adj. R-squared:                  0.032\n",
            "Method:                 Least Squares   F-statistic:                     107.7\n",
            "Date:                Fri, 16 Dec 2022   Prob (F-statistic):           7.81e-25\n",
            "Time:                        20:18:18   Log-Likelihood:                -11795.\n",
            "No. Observations:                3205   AIC:                         2.359e+04\n",
            "Df Residuals:                    3203   BIC:                         2.361e+04\n",
            "Df Model:                           1                                         \n",
            "Covariance Type:            nonrobust                                         \n",
            "==============================================================================\n",
            "                 coef    std err          t      P>|t|      [0.025      0.975]\n",
            "------------------------------------------------------------------------------\n",
            "Intercept      7.4748      0.232     32.272      0.000       7.021       7.929\n",
            "cm1inpov      -0.7016      0.068    -10.377      0.000      -0.834      -0.569\n",
            "==============================================================================\n",
            "Omnibus:                     1512.902   Durbin-Watson:                   1.982\n",
            "Prob(Omnibus):                  0.000   Jarque-Bera (JB):             7951.466\n",
            "Skew:                           2.261   Prob(JB):                         0.00\n",
            "Kurtosis:                       9.253   Cond. No.                         4.87\n",
            "==============================================================================\n",
            "\n",
            "Notes:\n",
            "[1] Standard Errors assume that the covariance matrix of the errors is correctly specified.\n"
          ]
        }
      ],
      "source": [
        "#We use the ols package from statsmodels to run a regression\n",
        "\n",
        "model = ols(\"total ~ cm1inpov\", data = df).fit()\n",
        "print(model.summary())"
      ]
    },
    {
      "cell_type": "markdown",
      "metadata": {
        "id": "nG0omyCbJRA_"
      },
      "source": [
        "The coefficient on Mother's Household Income/Poverty Ratio (cm1inpov) is negative, as we thought. The magnitude of -0.7016 suggests that, for every additional decrease by one unit in the mother's income/poverty ratio at time of birth, the child's violence score is estimated to decrease by -0.7016. Essentially, as the mother gets poorer, the child is estimated to be more violent. The t statistic is and -10.375 and two-tailed P-value is 0.000, meaning the income/poverty ratio has basic significance even at the 0.001 significance level.\n",
        "\n",
        "While there is strong significance, the income/poverty does not seem to have super strong explanatory power. The R^2 value is only 0.033, sugessting that only 3.33% of the total variation in violence scores can be explained by the total variation in the mother's household income/poverty ratio. \n",
        "\n",
        "Problems complicating the regression model include a limited number of observations with high income/poverty ratios as well as apparent heteroskedacity."
      ]
    },
    {
      "cell_type": "markdown",
      "metadata": {
        "id": "PG7qu-44LA7T"
      },
      "source": [
        "Next, let's look at the relationship between mother's education and child's violence.\n",
        "\n"
      ]
    },
    {
      "cell_type": "code",
      "execution_count": null,
      "metadata": {
        "colab": {
          "base_uri": "https://localhost:8080/",
          "height": 308
        },
        "id": "r_PqQkkDc8v9",
        "outputId": "889f022d-a270-416f-c3c5-ebc928e7f6fe"
      },
      "outputs": [
        {
          "data": {
            "image/png": "[encoded data removed]",
            "text/plain": [
              "<Figure size 1224x288 with 2 Axes>"
            ]
          },
          "metadata": {},
          "output_type": "display_data"
        }
      ],
      "source": [
        "#Make our plots using seaborn\n",
        "fig, ax = plt.subplots(1,2, figsize=(17,4))\n",
        "\n",
        "sns.barplot(x=df.cm1edu, y=df.total, order=['Less HS', 'HS', 'Some college / Tech', 'College / Grad'], ci=None, ax=ax[0])\n",
        "\n",
        "#For the second plot, group each education level by income/poverty ratio using the hue variable\n",
        "sns.barplot(x=df.cm1edu, y=df.total, order=['Less HS', 'HS', 'Some college / Tech', 'College / Grad'], hue=df.povlevel, ci=None, ax=ax[1])\n",
        "\n",
        "#Set titles and formatting\n",
        "ax[0].set(xlabel = 'Mother Baseline Education', ylabel = 'Average Violence Metric Score')\n",
        "ax[1].set(xlabel = 'Mother Baseline Education grouped by Poverty Ratio', ylabel = 'Average Violence Metric Score')\n",
        "plt.suptitle('Violence vs Mother\\'s Education')\n",
        "ax[1].legend(bbox_to_anchor=(1.0, 1.0), loc='upper left', title = \"Poverty Ratio\")\n",
        "plt.show()"
      ]
    },
    {
      "cell_type": "markdown",
      "metadata": {
        "id": "Tjlj9gsmLOxs"
      },
      "source": [
        "In the plot on the left, the average violence score clearly seems to be lower for children whose mother's have more education. However, we guess that education level is strongly correlated with income level, which we already determined also has an effect on violence.\n",
        "\n",
        "In the graph on the right, we break down average violence score by income for each level of education. Violence still seems to generally decrease with more education across income levels, but the trend is less pronounced as before."
      ]
    },
    {
      "cell_type": "markdown",
      "metadata": {
        "id": "lppV_l22Mljr"
      },
      "source": [
        "Next, let's look at the relationship between father's education and child's violence. We expect we'll see a similar relationship as with mother's education"
      ]
    },
    {
      "cell_type": "code",
      "execution_count": null,
      "metadata": {
        "colab": {
          "base_uri": "https://localhost:8080/",
          "height": 308
        },
        "id": "ZkdN2x5bdcGl",
        "outputId": "184cff03-15bd-43e6-e0dc-d007405613d5"
      },
      "outputs": [
        {
          "data": {
            "image/png": "[encoded data removed]",
            "text/plain": [
              "<Figure size 1224x288 with 2 Axes>"
            ]
          },
          "metadata": {},
          "output_type": "display_data"
        }
      ],
      "source": [
        "#Make our plots using seaborn\n",
        "\n",
        "fig, ax = plt.subplots(1,2, figsize=(17,4))\n",
        "sns.barplot(x=df.cf1edu, y=df.total, order=['Less HS', 'HS', 'Some college / Tech', 'College / Grad'], ci=None, ax=ax[0])\n",
        "sns.barplot(x=df.cf1edu, y=df.total, order=['Less HS', 'HS', 'Some college / Tech', 'College / Grad'], hue=df.povlevel, ci=None, ax=ax[1])\n",
        "ax[0].set(xlabel = 'Father Baseline Education', ylabel = 'Average Violence Metric Score')\n",
        "ax[1].set(xlabel = 'Father Baseline Education grouped by Poverty Ratio', ylabel = 'Average Violence Metric Score')\n",
        "plt.suptitle('Violence vs Father\\'s Education')\n",
        "ax[1].legend(bbox_to_anchor=(1.0, 1.0), loc='upper left', title = \"Poverty Ratio\")\n",
        "plt.show()"
      ]
    },
    {
      "cell_type": "markdown",
      "metadata": {
        "id": "MIl2bg9aMwhU"
      },
      "source": [
        "As expected we see a similar relationship as we did with mother's education for both graphs. This makes intuitive sense. We should also note that mother's education and father's education are likely highly correlated with each other."
      ]
    },
    {
      "cell_type": "markdown",
      "metadata": {
        "id": "hOYARDpGNOa9"
      },
      "source": [
        "In the next few graphs we'll look at the relationship between substance consumption during pregnancy and violence. We might see a possible relationship for two reasons. For one, using substances during pregnancy likely indicates that a parent does not prioritize the child and may not provide strong behavioral support in the future. In addition, some substance use has the potential to cause mental birth defects which could translate into more violent tendencies as well.\n",
        "\n",
        "First, we'll graph alcohol consumption during pregnancy and violence scores.\n"
      ]
    },
    {
      "cell_type": "code",
      "execution_count": null,
      "metadata": {
        "colab": {
          "base_uri": "https://localhost:8080/",
          "height": 320
        },
        "id": "wq1VdhIWdvbF",
        "outputId": "5bf0aad7-015d-4a46-f4dc-62c5eaed3b86"
      },
      "outputs": [
        {
          "data": {
            "image/png": "[encoded data removed]",
            "text/plain": [
              "<Figure size 720x288 with 2 Axes>"
            ]
          },
          "metadata": {},
          "output_type": "display_data"
        }
      ],
      "source": [
        "#Make our plots using seaborn\n",
        "\n",
        "fig, ax = plt.subplots(1,2, figsize=(10,4))\n",
        "sns.barplot(x=df.m1g2, y=df.total, order=['Never', 'Sometimes', 'Often'], ci=None, ax=ax[0])\n",
        "sns.barplot(x=df.m1g2, y=df.total, order=['Never', 'Sometimes', 'Often'], hue=df.povlevel, ci=None, ax=ax[1])\n",
        "ax[0].set(xlabel = 'Frequency of Alcohol Consumption', ylabel = 'Average Violence Metric Score')\n",
        "ax[1].set(xlabel = 'Frequency of Alcohol Consumption \\nGrouped by Poverty Ratio', ylabel = 'Average Violence Metric Score')\n",
        "plt.suptitle('Violence vs Mother\\'s Frequency of Alcohol Consumption During Pregnancy')\n",
        "ax[1].legend(bbox_to_anchor=(1.0, 1.0), loc='upper left', title = \"Poverty Ratio\")\n",
        "plt.show()"
      ]
    },
    {
      "cell_type": "markdown",
      "metadata": {
        "id": "aiP9UgxFN_oE"
      },
      "source": [
        "We see that the average violence score increases with more alcohol consumption. When we group by poverty ratio, this effect appears to go away for the poorest and wealthiest families but still occur in middle income families."
      ]
    },
    {
      "cell_type": "markdown",
      "metadata": {
        "id": "4WSbT9hnOXGP"
      },
      "source": [
        "Next we'll graph drug use during pregnancy and violence score.\n",
        "\n",
        "\n"
      ]
    },
    {
      "cell_type": "code",
      "execution_count": null,
      "metadata": {
        "colab": {
          "base_uri": "https://localhost:8080/",
          "height": 320
        },
        "id": "tpt29KLYd86q",
        "outputId": "97331347-6ec6-457c-ae13-117b7503a0a8"
      },
      "outputs": [
        {
          "data": {
            "image/png": "[encoded data removed]",
            "text/plain": [
              "<Figure size 720x288 with 2 Axes>"
            ]
          },
          "metadata": {},
          "output_type": "display_data"
        }
      ],
      "source": [
        "#Make our plots using seaborn\n",
        "\n",
        "fig, ax = plt.subplots(1,2, figsize=(10,4))\n",
        "sns.barplot(x=df.m1g3, y=df.total, order=['Never', 'Sometimes', 'Often'], ci=None, ax=ax[0])\n",
        "sns.barplot(x=df.m1g3, y=df.total, order=['Never', 'Sometimes', 'Often'], hue=df.povlevel, ci=None, ax=ax[1])\n",
        "ax[0].set(xlabel = 'Frequency of Drug Use', ylabel = 'Average Violence Metric Score')\n",
        "ax[1].set(xlabel = 'Frequency of Drug Use \\nGrouped by Poverty Ratio', ylabel = 'Average Violence Metric Score')\n",
        "plt.suptitle('Violence vs Mother\\'s Frequency of Drug Use During Pregnancy')\n",
        "ax[1].legend(bbox_to_anchor=(1.0, 1.0), loc='upper left', title = \"Poverty Ratio\")\n",
        "plt.show()"
      ]
    },
    {
      "cell_type": "markdown",
      "metadata": {
        "id": "YHukyQOBOc4O"
      },
      "source": [
        "It appears that the children of drug users during pregnancy have generally higher violence scores, but this effect is somewhat inconsistent."
      ]
    },
    {
      "cell_type": "markdown",
      "metadata": {
        "id": "wDLukcC8OxAc"
      },
      "source": [
        "Finally, we'll graph cigarette use during pregnancy and violence score.\n",
        "\n"
      ]
    },
    {
      "cell_type": "code",
      "execution_count": null,
      "metadata": {
        "colab": {
          "base_uri": "https://localhost:8080/",
          "height": 320
        },
        "id": "84e2LSDfeJCw",
        "outputId": "66090027-e0bc-41a6-cc07-1a8124741f15"
      },
      "outputs": [
        {
          "data": {
            "image/png": "[encoded data removed]",
            "text/plain": [
              "<Figure size 720x288 with 2 Axes>"
            ]
          },
          "metadata": {},
          "output_type": "display_data"
        }
      ],
      "source": [
        "#Make our plots using seaborn\n",
        "\n",
        "fig, ax = plt.subplots(1,2, figsize=(10,4))\n",
        "sns.barplot(x=df.m1g4, y=df.total, order=['Never', 'Sometimes', 'Often'], ci=None, ax=ax[0])\n",
        "sns.barplot(x=df.m1g4, y=df.total, order=['Never', 'Sometimes', 'Often'], hue=df.povlevel, ci=None, ax=ax[1])\n",
        "ax[0].set(xlabel = 'Frequency of Cigarette Consumption', ylabel = 'Average Violence Metric Score')\n",
        "ax[1].set(xlabel = 'Frequency of Cigarette Consumption \\nGrouped by Poverty Ratio', ylabel = 'Average Violence Metric Score')\n",
        "plt.suptitle('Violence vs Mother\\'s Frequency of Cigarette Consumption During Pregnancy')\n",
        "ax[1].legend(bbox_to_anchor=(1.0, 1.0), loc='upper left', title = \"Poverty Ratio\")\n",
        "plt.show()"
      ]
    },
    {
      "cell_type": "markdown",
      "metadata": {
        "id": "69IeEuCBO7l8"
      },
      "source": [
        "Here, we see a similar distribution as with alcohol use. This relationship appears to be clearer then drug use.\n",
        "\n",
        "Unfortunately, these graphs can only tell us so much as we have relatively limited observations (thankfully for humanity) of cigarette and alcohol users during pregancy. We have enough observations to see some trends, but it is important to be cautious when drawing conclusions."
      ]
    },
    {
      "cell_type": "markdown",
      "metadata": {
        "id": "eyu_o9ZUP8Rw"
      },
      "source": [
        "Now let's see whether there is a correlation between the father being in jail during the time of birth with violent outcomes."
      ]
    },
    {
      "cell_type": "code",
      "execution_count": null,
      "metadata": {
        "colab": {
          "base_uri": "https://localhost:8080/",
          "height": 320
        },
        "id": "drSkPvdjaIw8",
        "outputId": "64adb839-d741-48e7-e076-ff3038ae4332"
      },
      "outputs": [
        {
          "data": {
            "image/png": "[encoded data removed]",
            "text/plain": [
              "<Figure size 1224x288 with 2 Axes>"
            ]
          },
          "metadata": {},
          "output_type": "display_data"
        }
      ],
      "source": [
        "#Make our plots using seaborn\n",
        "fig, ax = plt.subplots(1,2, figsize=(17,4))\n",
        "sns.barplot(x=df.cm1ffinjail, y=df.total, ci=None, ax=ax[0])\n",
        "sns.barplot(x=df.cm1ffinjail, y=df.total, ci=None, hue=df.povlevel, ax=ax[1])\n",
        "ax[0].set(xlabel = 'Father in Jail', ylabel = 'Average Violence Metric Score')\n",
        "ax[1].set(xlabel = 'Father in Jail \\nGrouped by Poverty Ratio', ylabel = 'Average Violence Metric Score')\n",
        "plt.suptitle('Violence vs Father in Jail at Time of Birth')\n",
        "ax[1].legend(bbox_to_anchor=(1.0, 1.0), loc='upper left', title = \"Poverty Ratio\")\n",
        "plt.show()"
      ]
    },
    {
      "cell_type": "markdown",
      "metadata": {
        "id": "FfGSxs5YatLr"
      },
      "source": [
        "There is a disparity in violence in youths whose fathers were in jail during their births. Although this increase could be tied to a number of external factors, the correlation is clear. This trend holds true even when we group by poverty ratio."
      ]
    },
    {
      "cell_type": "markdown",
      "metadata": {
        "id": "SsmjnX6Daimq"
      },
      "source": [
        "Let's switch gears a bit. We'll look at the average violence metric score across different the relationship statuses of the childs parents' at the time of birth."
      ]
    },
    {
      "cell_type": "code",
      "execution_count": null,
      "metadata": {
        "colab": {
          "base_uri": "https://localhost:8080/",
          "height": 320
        },
        "id": "w2pICynjbLKQ",
        "outputId": "682e9d00-0e13-4a36-ca7e-725e815419cb"
      },
      "outputs": [
        {
          "data": {
            "image/png": "[encoded data removed]",
            "text/plain": [
              "<Figure size 1224x288 with 2 Axes>"
            ]
          },
          "metadata": {},
          "output_type": "display_data"
        }
      ],
      "source": [
        "#Make our plots using seaborn\n",
        "fig, ax = plt.subplots(1,2, figsize=(17,4))\n",
        "sns.barplot(x=df.cm1relf, y=df.total, ci=None, ax=ax[0])\n",
        "sns.barplot(x=df.cm1relf, y=df.total, ci=None, hue=df.povlevel, ax=ax[1])\n",
        "ax[0].set(xlabel = 'Relationship Status', ylabel = 'Average Violence Metric Score')\n",
        "ax[1].set(xlabel = 'Relationship Status \\nGrouped by Poverty Ratio', ylabel = 'Average Violence Metric Score')\n",
        "plt.suptitle('Violence vs Parental Relationship Status at Time of Birth')\n",
        "ax[1].legend(bbox_to_anchor=(1.0, 1.0), loc='upper left', title = \"Poverty Ratio\")\n",
        "plt.show()"
      ]
    },
    {
      "cell_type": "markdown",
      "metadata": {
        "id": "sAXTAxcTQiMU"
      },
      "source": [
        "Wow! Relationship status of parents at time of birth seems to have a big impact. The average violence score among children whose parents were married at birth is twice as low as the average violence scores among children whose parents were only friends, visiting, or never talking at time of birth.\n",
        "\n",
        "This stark difference is lessened somehwat when controlled for income, but the average \"Married\" violence score is still roughly 4 points lower than the average violence score for \"Never Talk\". Married parents are less likely to have children that end up being violent even if they are low income"
      ]
    },
    {
      "cell_type": "markdown",
      "metadata": {
        "id": "k0gx1x4kRbTG"
      },
      "source": [
        "One more graph to explore! Let's see how average violence score compares across religions"
      ]
    },
    {
      "cell_type": "code",
      "execution_count": null,
      "metadata": {
        "colab": {
          "base_uri": "https://localhost:8080/",
          "height": 320
        },
        "id": "I9v3qVWVemWR",
        "outputId": "3a093d3c-9279-4479-8c33-9ffaaf620e10"
      },
      "outputs": [
        {
          "data": {
            "image/png": "[encoded data removed]",
            "text/plain": [
              "<Figure size 1224x288 with 2 Axes>"
            ]
          },
          "metadata": {},
          "output_type": "display_data"
        }
      ],
      "source": [
        "#Create plots using seaborn\n",
        "\n",
        "fig, ax = plt.subplots(1,2, figsize=(17,4))\n",
        "sns.barplot(x=df.m1f7, y=df.total, ci=None, ax=ax[0])\n",
        "sns.barplot(x=df.m1f7, y=df.total, ci=None, hue=df.povlevel, ax=ax[1])\n",
        "ax[0].set(xlabel = 'Religious Preference', ylabel = 'Average Violence Metric Score')\n",
        "ax[1].set(xlabel = 'Religious Preference \\nGrouped by Poverty Ratio', ylabel = 'Average Violence Metric Score')\n",
        "plt.suptitle('Violence vs Religious Preference')\n",
        "ax[1].legend(bbox_to_anchor=(1.0, 1.0), loc='upper left', title = \"Poverty Ratio\")\n",
        "plt.show()"
      ]
    },
    {
      "cell_type": "markdown",
      "metadata": {
        "id": "En1U4gcDRrON"
      },
      "source": [
        "There were limited observations for religions other than Catholic, Christian, and None, so it is difficult to place too much weight on the above graph. Still, there appears to be some variation among religions. For the most part, this variation holds when income is taken into account. The average violence scores for those with no religion and for Christians is notably higher than the average scores for the other groups."
      ]
    },
    {
      "cell_type": "markdown",
      "metadata": {
        "id": "6YiZRb7XJwVf"
      },
      "source": [
        "###<u>**Machine Learning**</u>\n",
        "\n",
        "Now that we have explored several aspects of our data, we turn to a more ambitious task. Is it possible to predict violence in teenage years, solely based off of survey questions conducted at birth? We begin machine learning to find out!"
      ]
    },
    {
      "cell_type": "markdown",
      "metadata": {
        "id": "AL5toMbNGK4V"
      },
      "source": [
        "First, we prepare the features and target for machine learning by cleaning the predictive features (survey questions), and separating the target (binned score on the violence metric)."
      ]
    },
    {
      "cell_type": "code",
      "execution_count": null,
      "metadata": {
        "id": "mf9T_OrbJyPJ"
      },
      "outputs": [],
      "source": [
        "#We drop the idnum of each family, as well as targets we are predicting from the training set\n",
        "X = df.drop(columns=['idnum','p6b35', 'p6b37', 'p6b41', 'p6b42', 'p6b45', 'k6d61d', 'k6d61i', 'k6d61l','total','total_bins','povlevel'])\n",
        "\n",
        "#Use dummies for categorical features\n",
        "X = pd.get_dummies(data = X, columns=['cm1relf','m1g2','m1f3','m1g3','m1g4','cm1edu','cf1edu','cm1ffinjail','m1f7'])\n",
        "y = df.loc[:,'total_bins']\n",
        "\n",
        "#Create a training and testing set\n",
        "X_train, X_test, y_train, y_test = train_test_split(X, y,\n",
        "    test_size=0.2, shuffle = True, random_state = 8)"
      ]
    },
    {
      "cell_type": "markdown",
      "metadata": {
        "id": "c2mc_ddLGhcD"
      },
      "source": [
        "The first algorithm we will try is the Random Forest algorithm. We run grid search on the training set to find optimal hyperparameters."
      ]
    },
    {
      "cell_type": "code",
      "execution_count": null,
      "metadata": {
        "colab": {
          "background_save": true,
          "base_uri": "https://localhost:8080/"
        },
        "id": "wPUsMjk8Ggm-",
        "outputId": "8fd4f650-14c5-4dd5-c526-88285ac55143"
      },
      "outputs": [
        {
          "data": {
            "text/plain": [
              "GridSearchCV(cv=5, estimator=RandomForestClassifier(),\n",
              "             param_grid={'criterion': ['gini', 'entropy'],\n",
              "                         'max_depth': [5, 10, 15, 20],\n",
              "                         'max_features': ['sqrt', 'log2'],\n",
              "                         'n_estimators': [100, 200, 300, 400, 500, 600]})"
            ]
          },
          "execution_count": 126,
          "metadata": {},
          "output_type": "execute_result"
        }
      ],
      "source": [
        "#Dictionary of hyperparameters\n",
        "rf_parameters = {\n",
        "    'n_estimators': [100,200,300,400,500,600],\n",
        "    'max_features': ['sqrt', 'log2'],\n",
        "    'max_depth' : [5,10,15,20],\n",
        "    'criterion' :['gini', 'entropy'],\n",
        "}\n",
        "\n",
        "#Run gridsearch\n",
        "rf_cv = GridSearchCV(estimator=RandomForestClassifier(), param_grid=rf_parameters, cv= 5)\n",
        "\n",
        "#fit the model\n",
        "rf_cv.fit(X_train, y_train)"
      ]
    },
    {
      "cell_type": "markdown",
      "metadata": {
        "id": "9XxNBGNuG5iH"
      },
      "source": [
        "GridSearchCV outputs the best parameters. Let's examine them!"
      ]
    },
    {
      "cell_type": "code",
      "execution_count": null,
      "metadata": {
        "colab": {
          "background_save": true,
          "base_uri": "https://localhost:8080/"
        },
        "id": "BH1EGyneNgkX",
        "outputId": "a8e3ed87-8e37-479a-f64b-46ae1b0888f2"
      },
      "outputs": [
        {
          "data": {
            "text/plain": [
              "{'criterion': 'gini',\n",
              " 'max_depth': 5,\n",
              " 'max_features': 'log2',\n",
              " 'n_estimators': 300}"
            ]
          },
          "execution_count": 127,
          "metadata": {},
          "output_type": "execute_result"
        }
      ],
      "source": [
        "rf_cv.best_params_"
      ]
    },
    {
      "cell_type": "markdown",
      "metadata": {
        "id": "LR2CZ7bwHDM-"
      },
      "source": [
        "Next we use these hyperparameters to evaluate the efficacy of the model. We run 10 fold cross validation to make the most of the data available to us."
      ]
    },
    {
      "cell_type": "code",
      "execution_count": null,
      "metadata": {
        "colab": {
          "background_save": true,
          "base_uri": "https://localhost:8080/"
        },
        "id": "dD_2Zj0QRxYe",
        "outputId": "9af46f7d-1844-4f2e-b2f1-8adce6a2f9ff"
      },
      "outputs": [
        {
          "name": "stderr",
          "output_type": "stream",
          "text": [
            "/usr/local/lib/python3.8/dist-packages/sklearn/model_selection/_split.py:676: UserWarning: The least populated class in y has only 9 members, which is less than n_splits=10.\n",
            "  warnings.warn(\n"
          ]
        }
      ],
      "source": [
        "#Create optimized random forest classifier\n",
        "rf_clf = RandomForestClassifier(n_estimators = rf_cv.best_params_['n_estimators'], criterion=rf_cv.best_params_['criterion'], \n",
        "                                max_depth=rf_cv.best_params_['max_depth'], max_features=rf_cv.best_params_['max_features']) \n",
        "\n",
        "#Run 10 fold cross validation\n",
        "rf_scores = model_selection.cross_val_score(rf_clf, X_train, y_train, cv=10)"
      ]
    },
    {
      "cell_type": "markdown",
      "metadata": {
        "id": "f0OvJGKUTEKS"
      },
      "source": [
        "Although Random Forest is an efficient and powerful algorithm, it would be useful to compare its performance to a simpler algorithm, K Nearest Neighbors. We thus repeat the process from above using KNN."
      ]
    },
    {
      "cell_type": "code",
      "execution_count": null,
      "metadata": {
        "id": "aGKrWTRuSlxn"
      },
      "outputs": [],
      "source": [
        "# defining parameter range\n",
        "k_range = list(range(1, 30))\n",
        "grid = dict(n_neighbors=k_range)\n",
        "  \n",
        "# fitting the model for grid search\n",
        "knn_cv = GridSearchCV(estimator=KNeighborsClassifier(), param_grid=grid, cv=5)\n",
        "\n",
        "knn_cv.fit(X_train, y_train)"
      ]
    },
    {
      "cell_type": "code",
      "execution_count": null,
      "metadata": {
        "id": "YZ_jKDIQTJW-"
      },
      "outputs": [],
      "source": [
        "# Output the best number of neighbors to use\n",
        "knn_cv.best_params_"
      ]
    },
    {
      "cell_type": "code",
      "execution_count": null,
      "metadata": {
        "id": "6N1L80f2TORN"
      },
      "outputs": [],
      "source": [
        "# creating a KNN classifier with the hyperparameters found using gridsearch\n",
        "knn_clf = KNeighborsClassifier(n_neighbors=knn_cv.best_params_['n_neighbors']) \n",
        "\n",
        "# Run 10-fold cross validation\n",
        "knn_scores = model_selection.cross_val_score(knn_clf, X_train, y_train, cv=10)"
      ]
    },
    {
      "cell_type": "markdown",
      "metadata": {
        "id": "V9TzRam-HuKr"
      },
      "source": [
        "Let's visualize the difference in scores between the Random Forest and KNN algorithms."
      ]
    },
    {
      "cell_type": "code",
      "execution_count": null,
      "metadata": {
        "id": "GwHCALjOH0SY",
        "outputId": "95838819-ca63-42e2-ffac-8155c1539899",
        "colab": {
          "base_uri": "https://localhost:8080/",
          "height": 281
        }
      },
      "outputs": [
        {
          "output_type": "display_data",
          "data": {
            "text/plain": [
              "<Figure size 432x288 with 1 Axes>"
            ],
            "image/png": "[encoded data removed]"
          },
          "metadata": {
            "needs_background": "light"
          }
        }
      ],
      "source": [
        "scores = pd.DataFrame({'Random Forest': rf_scores, 'KNN': knn_scores})\n",
        "ax = sns.violinplot(data=scores)\n",
        "ax.set(ylabel = 'Accuracy', title = 'Algorithm Performance Comparison')\n",
        "plt.show()"
      ]
    },
    {
      "cell_type": "markdown",
      "metadata": {
        "id": "JfncQRxQTvyB"
      },
      "source": [
        "As we can see in the violinplot, the Random Forest Algorithm results in a slightly higher mean accuracy, and smaller standard deviation. Are these results statistically significant however?"
      ]
    },
    {
      "cell_type": "code",
      "execution_count": null,
      "metadata": {
        "id": "uP_Z5lo6FK6G",
        "outputId": "ea20ea95-379d-48f7-8304-a7cd58a8b51a",
        "colab": {
          "base_uri": "https://localhost:8080/"
        }
      },
      "outputs": [
        {
          "output_type": "stream",
          "name": "stdout",
          "text": [
            "T test p-value for whether mean accuracy is different between RF and KNN: 0.04547800983616254\n"
          ]
        }
      ],
      "source": [
        "print(f'T test p-value for whether mean accuracy is different between RF and KNN: {stats.ttest_ind(rf_scores, knn_scores).pvalue}')"
      ]
    },
    {
      "cell_type": "code",
      "execution_count": null,
      "metadata": {
        "id": "-OO2LYt9XNB2",
        "outputId": "529fc753-a9da-494e-995c-f87a68a407c4",
        "colab": {
          "base_uri": "https://localhost:8080/"
        }
      },
      "outputs": [
        {
          "output_type": "stream",
          "name": "stdout",
          "text": [
            "F test p-value for whether standard deviation is different between RF and KNN: 0.9819901180141816\n"
          ]
        }
      ],
      "source": [
        "def f_test(group1, group2):\n",
        "    f = np.var(group1, ddof=1)/np.var(group2, ddof=1)\n",
        "    nun = group1.size-1\n",
        "    dun = group2.size-1\n",
        "    p_value = 1-stats.f.cdf(f, nun, dun)\n",
        "    return p_value\n",
        "  \n",
        "# perform F-test\n",
        "f = f_test(rf_scores, knn_scores)\n",
        "print(f'F test p-value for whether standard deviation is different between RF and KNN: {f}')"
      ]
    },
    {
      "cell_type": "markdown",
      "metadata": {
        "id": "x5wsMN1hT4kf"
      },
      "source": [
        "The T test shows that the difference in algorithm performances is in fact not significant."
      ]
    },
    {
      "cell_type": "markdown",
      "metadata": {
        "id": "ViP-RUhRT_MU"
      },
      "source": [
        "We originally segmented 20% of the data for holdout validation. Let's use it now to compare algorithm performances!"
      ]
    },
    {
      "cell_type": "code",
      "execution_count": null,
      "metadata": {
        "id": "A0Oh2GNNTfqI",
        "outputId": "275f683c-e630-4081-fc0f-9911346805b9",
        "colab": {
          "base_uri": "https://localhost:8080/"
        }
      },
      "outputs": [
        {
          "output_type": "stream",
          "name": "stdout",
          "text": [
            "Random Forest Accuracy on Test Set: 0.6209048361934477\n",
            "K Nearest Neighbors Accuracy on Test Set: 0.6224648985959438\n"
          ]
        }
      ],
      "source": [
        "#Now I use the test dataset to compare accuracy\n",
        "rf_clf.fit(X_train, y_train)\n",
        "knn_clf.fit(X_train, y_train)\n",
        "rf_y_pred = rf_clf.predict(X_test)\n",
        "knn_y_pred = knn_clf.predict(X_test)\n",
        "\n",
        "# using metrics module for accuracy\n",
        "rf_accuracy = metrics.accuracy_score(y_test, rf_y_pred)\n",
        "knn_accuracy = metrics.accuracy_score(y_test, knn_y_pred)\n",
        "\n",
        "print(f'Random Forest Accuracy on Test Set: {rf_accuracy}')\n",
        "print(f'K Nearest Neighbors Accuracy on Test Set: {knn_accuracy}')"
      ]
    },
    {
      "cell_type": "markdown",
      "metadata": {
        "id": "N0YYuTrGYMG5"
      },
      "source": [
        "We again found similar performace between the algorithms."
      ]
    },
    {
      "cell_type": "markdown",
      "metadata": {
        "id": "g-CJhhUaiDl7"
      },
      "source": [
        "###<u>**Analysis of Models**</u>\n",
        "\n",
        "At first glance, it may appear that our models are performing relatively well. We are achieving roughly 60% accuracy for classification into 5 bins, which is much better than random classification, which would result in 20% accuracy. However, upon further reflection, we must note that roughly 80% of our data consisted of individuals who scored a 0 on the violence metric, placing them into the first bin. Therefore an algorithm that simply classified everyone as non-violent would have achieved a higher accuracy overall. For future work, we recommend compensating for the skewed distribution of the dataset. One approach would be to duplicate the data in the sparser classes. Another is to synthetically create data."
      ]
    },
    {
      "cell_type": "markdown",
      "metadata": {
        "id": "J3h3DjhGiLyC"
      },
      "source": [
        "###<u>**Conclusions**</u>\n",
        "Even with a dataset as rich as the Fragile Families study, it was difficult to generate insights about predictors of child violence. Through hypothesis testing, we found that mother’s household income/poverty is highly significant in predicting a child’s violence score. We also identified a few additional risk factors- a less educated mother, alcohol/cigarette use by the mother during pregnancy, and a limited relationship between the baby’s parents- which all appear to be associated with higher average violence scores. We found that these trends generally hold even when poverty level is accounted for. \n",
        "\n",
        "It is important to note that our created violence metric was arbitrary. It is possible that, if we had calculated our violence score differently, we would have come to different conclusions. \n",
        "\n",
        "Despite finding associations during our exploratory data analysis which supported our intuition, our machine learning models failed to translate these into strong predictive power. While the survey questions we used provide meaningful insight into violent behavior in the aggregate, it appears they do not provide enough information to predict well how violent a child will be on an individual level. This is disappointing in terms of our project, but perhaps not surprising. A child’s tendency to be violent at age 15 is the result of a complex development process unfolding over a decade and a half, filled with many variables that cannot be predicted solely from their family at birth. In fact, it is probably good for humanity’s sense of free will that one’s future pattern of violence cannot be effectively predetermined at birth.\n"
      ]
    },
    {
      "cell_type": "markdown",
      "metadata": {
        "id": "wjSbY6m0iYcM"
      },
      "source": [
        "###<u>**Resources**</u>\n",
        "\n",
        "[How To Perform an F Test](https://www.geeksforgeeks.org/how-to-perform-an-f-test-in-python/)\n",
        "\n",
        "[Seaborn Library](https://seaborn.pydata.org/)\n",
        "\n",
        "[Extracting SAS Files](https://pypi.org/project/sas7bdat/)\n",
        "\n",
        "[Pandas](https://pandas.pydata.org/)\n",
        "\n",
        "[MatPlotLib](https://matplotlib.org/)\n",
        "\n",
        "[StatsModels](https://www.statsmodels.org/)\n",
        "\n",
        "[Machine Learning](https://scikit-learn.org/stable/)\n",
        "\n",
        "[Fragile Families Data](https://fragilefamilies.princeton.edu/data-and-documentation/public-data-documentation)\n",
        "\n",
        "The Fragile Families study requires us to provide the following statement: \n",
        "Research reported in this publication was supported by the Eunice Kennedy Shriver National Institute of Child Health and Human Development (NICHD) of the National Institutes of Health under award numbers R01HD036916, R01HD039135, and R01HD040421, as well as a consortium of private foundations. The content is solely the responsibility of the authors and does not necessarily represent the official views of the National Institutes of Health."
      ]
    },
    {
      "cell_type": "code",
      "source": [
        "%%shell\n",
        "jupyter nbconvert --to html /content/Final_Draft.ipynb\n"
      ],
      "metadata": {
        "colab": {
          "base_uri": "https://localhost:8080/"
        },
        "id": "VJUjbTYHoV_B",
        "outputId": "a692d925-1d8a-4ff0-aa39-8cc84c5c1831"
      },
      "execution_count": null,
      "outputs": [
        {
          "output_type": "stream",
          "name": "stdout",
          "text": [
            "[NbConvertApp] Converting notebook /content/Final_Draft.ipynb to html\n",
            "[NbConvertApp] Writing 694813 bytes to /content/Final_Draft.html\n"
          ]
        },
        {
          "output_type": "execute_result",
          "data": {
            "text/plain": []
          },
          "metadata": {},
          "execution_count": 3
        }
      ]
    }
  ],
  "metadata": {
    "colab": {
      "provenance": []
    },
    "gpuClass": "standard",
    "kernelspec": {
      "display_name": "Python 3",
      "name": "python3"
    },
    "language_info": {
      "name": "python"
    }
  },
  "nbformat": 4,
  "nbformat_minor": 0
}